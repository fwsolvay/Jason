{
  "nbformat": 4,
  "nbformat_minor": 0,
  "metadata": {
    "colab": {
      "provenance": []
    },
    "kernelspec": {
      "name": "python3",
      "display_name": "Python 3"
    },
    "language_info": {
      "name": "python"
    }
  },
  "cells": [
    {
      "cell_type": "code",
      "execution_count": 1,
      "metadata": {
        "colab": {
          "base_uri": "https://localhost:8080/"
        },
        "id": "s4SAEcZhZT0O",
        "outputId": "c6fe41df-a34a-4137-e59d-bd783f0a55be"
      },
      "outputs": [
        {
          "output_type": "stream",
          "name": "stdout",
          "text": [
            "Requirement already satisfied: flask in /usr/local/lib/python3.10/dist-packages (2.2.5)\n",
            "Collecting flask-cors\n",
            "  Downloading Flask_Cors-5.0.0-py2.py3-none-any.whl.metadata (5.5 kB)\n",
            "Collecting flask-ngrok\n",
            "  Downloading flask_ngrok-0.0.25-py3-none-any.whl.metadata (1.8 kB)\n",
            "Requirement already satisfied: Werkzeug>=2.2.2 in /usr/local/lib/python3.10/dist-packages (from flask) (3.0.4)\n",
            "Requirement already satisfied: Jinja2>=3.0 in /usr/local/lib/python3.10/dist-packages (from flask) (3.1.4)\n",
            "Requirement already satisfied: itsdangerous>=2.0 in /usr/local/lib/python3.10/dist-packages (from flask) (2.2.0)\n",
            "Requirement already satisfied: click>=8.0 in /usr/local/lib/python3.10/dist-packages (from flask) (8.1.7)\n",
            "Requirement already satisfied: requests in /usr/local/lib/python3.10/dist-packages (from flask-ngrok) (2.32.3)\n",
            "Requirement already satisfied: MarkupSafe>=2.0 in /usr/local/lib/python3.10/dist-packages (from Jinja2>=3.0->flask) (3.0.1)\n",
            "Requirement already satisfied: charset-normalizer<4,>=2 in /usr/local/lib/python3.10/dist-packages (from requests->flask-ngrok) (3.4.0)\n",
            "Requirement already satisfied: idna<4,>=2.5 in /usr/local/lib/python3.10/dist-packages (from requests->flask-ngrok) (3.10)\n",
            "Requirement already satisfied: urllib3<3,>=1.21.1 in /usr/local/lib/python3.10/dist-packages (from requests->flask-ngrok) (2.2.3)\n",
            "Requirement already satisfied: certifi>=2017.4.17 in /usr/local/lib/python3.10/dist-packages (from requests->flask-ngrok) (2024.8.30)\n",
            "Downloading Flask_Cors-5.0.0-py2.py3-none-any.whl (14 kB)\n",
            "Downloading flask_ngrok-0.0.25-py3-none-any.whl (3.1 kB)\n",
            "Installing collected packages: flask-ngrok, flask-cors\n",
            "Successfully installed flask-cors-5.0.0 flask-ngrok-0.0.25\n"
          ]
        }
      ],
      "source": [
        "# Install Flask and Flask-Cors for API development\n",
        "!pip install flask flask-cors flask-ngrok\n"
      ]
    },
    {
      "cell_type": "code",
      "source": [
        "from flask import Flask, request, jsonify\n",
        "from flask_ngrok import run_with_ngrok\n",
        "from flask_cors import CORS\n",
        "\n",
        "app = Flask(__name__)\n",
        "run_with_ngrok(app)\n",
        "CORS(app)\n",
        "\n",
        "# In-memory data structures\n",
        "users = {}  # Format: {username: {\"password\": \"password\", \"posts\": []}}\n",
        "posts = []  # List of dictionaries containing post details\n",
        "\n",
        "# Route to register a new user\n",
        "@app.route('/register', methods=['POST'])\n",
        "def register():\n",
        "    data = request.json\n",
        "    username = data.get('username')\n",
        "    password = data.get('password')\n",
        "    if username in users:\n",
        "        return jsonify({\"message\": \"User already exists\"}), 400\n",
        "    users[username] = {\"password\": password, \"posts\": []}\n",
        "    return jsonify({\"message\": \"User registered successfully\"}), 200\n",
        "\n",
        "# Route to login\n",
        "@app.route('/login', methods=['POST'])\n",
        "def login():\n",
        "    data = request.json\n",
        "    username = data.get('username')\n",
        "    password = data.get('password')\n",
        "    user = users.get(username)\n",
        "    if user and user['password'] == password:\n",
        "        return jsonify({\"message\": \"Login successful\"}), 200\n",
        "    return jsonify({\"message\": \"Invalid credentials\"}), 401\n",
        "\n",
        "# Route to add a new post\n",
        "@app.route('/add_post', methods=['POST'])\n",
        "def add_post():\n",
        "    data = request.json\n",
        "    username = data.get('username')\n",
        "    content = data.get('content')\n",
        "    if username not in users:\n",
        "        return jsonify({\"message\": \"User not found\"}), 404\n",
        "    post = {\"username\": username, \"content\": content}\n",
        "    posts.append(post)\n",
        "    users[username][\"posts\"].append(post)\n",
        "    return jsonify({\"message\": \"Post added successfully\"}), 200\n",
        "\n",
        "# Route to get all posts\n",
        "@app.route('/get_posts', methods=['GET'])\n",
        "def get_posts():\n",
        "    return jsonify({\"posts\": posts}), 200\n",
        "\n",
        "if __name__ == '__main__':\n",
        "    app.run()\n"
      ],
      "metadata": {
        "colab": {
          "base_uri": "https://localhost:8080/"
        },
        "id": "wTpyRZLyZZZY",
        "outputId": "aa375d6c-06ed-44ee-da10-8e6486c1f132"
      },
      "execution_count": 2,
      "outputs": [
        {
          "output_type": "stream",
          "name": "stdout",
          "text": [
            " * Serving Flask app '__main__'\n",
            " * Debug mode: off\n"
          ]
        },
        {
          "output_type": "stream",
          "name": "stderr",
          "text": [
            "INFO:werkzeug:\u001b[31m\u001b[1mWARNING: This is a development server. Do not use it in a production deployment. Use a production WSGI server instead.\u001b[0m\n",
            " * Running on http://127.0.0.1:5000\n",
            "INFO:werkzeug:\u001b[33mPress CTRL+C to quit\u001b[0m\n",
            "Exception in thread Thread-10:\n",
            "Traceback (most recent call last):\n",
            "  File \"/usr/local/lib/python3.10/dist-packages/urllib3/connection.py\", line 199, in _new_conn\n",
            "    sock = connection.create_connection(\n",
            "  File \"/usr/local/lib/python3.10/dist-packages/urllib3/util/connection.py\", line 85, in create_connection\n",
            "    raise err\n",
            "  File \"/usr/local/lib/python3.10/dist-packages/urllib3/util/connection.py\", line 73, in create_connection\n",
            "    sock.connect(sa)\n",
            "ConnectionRefusedError: [Errno 111] Connection refused\n",
            "\n",
            "The above exception was the direct cause of the following exception:\n",
            "\n",
            "Traceback (most recent call last):\n",
            "  File \"/usr/local/lib/python3.10/dist-packages/urllib3/connectionpool.py\", line 789, in urlopen\n",
            "    response = self._make_request(\n",
            "  File \"/usr/local/lib/python3.10/dist-packages/urllib3/connectionpool.py\", line 495, in _make_request\n",
            "    conn.request(\n",
            "  File \"/usr/local/lib/python3.10/dist-packages/urllib3/connection.py\", line 441, in request\n",
            "    self.endheaders()\n",
            "  File \"/usr/lib/python3.10/http/client.py\", line 1278, in endheaders\n",
            "    self._send_output(message_body, encode_chunked=encode_chunked)\n",
            "  File \"/usr/lib/python3.10/http/client.py\", line 1038, in _send_output\n",
            "    self.send(msg)\n",
            "  File \"/usr/lib/python3.10/http/client.py\", line 976, in send\n",
            "    self.connect()\n",
            "  File \"/usr/local/lib/python3.10/dist-packages/urllib3/connection.py\", line 279, in connect\n",
            "    self.sock = self._new_conn()\n",
            "  File \"/usr/local/lib/python3.10/dist-packages/urllib3/connection.py\", line 214, in _new_conn\n",
            "    raise NewConnectionError(\n",
            "urllib3.exceptions.NewConnectionError: <urllib3.connection.HTTPConnection object at 0x7c6b8e0b1ab0>: Failed to establish a new connection: [Errno 111] Connection refused\n",
            "\n",
            "The above exception was the direct cause of the following exception:\n",
            "\n",
            "Traceback (most recent call last):\n",
            "  File \"/usr/local/lib/python3.10/dist-packages/requests/adapters.py\", line 667, in send\n",
            "    resp = conn.urlopen(\n",
            "  File \"/usr/local/lib/python3.10/dist-packages/urllib3/connectionpool.py\", line 843, in urlopen\n",
            "    retries = retries.increment(\n",
            "  File \"/usr/local/lib/python3.10/dist-packages/urllib3/util/retry.py\", line 519, in increment\n",
            "    raise MaxRetryError(_pool, url, reason) from reason  # type: ignore[arg-type]\n",
            "urllib3.exceptions.MaxRetryError: HTTPConnectionPool(host='localhost', port=4040): Max retries exceeded with url: /api/tunnels (Caused by NewConnectionError('<urllib3.connection.HTTPConnection object at 0x7c6b8e0b1ab0>: Failed to establish a new connection: [Errno 111] Connection refused'))\n",
            "\n",
            "During handling of the above exception, another exception occurred:\n",
            "\n",
            "Traceback (most recent call last):\n",
            "  File \"/usr/lib/python3.10/threading.py\", line 1016, in _bootstrap_inner\n",
            "    self.run()\n",
            "  File \"/usr/lib/python3.10/threading.py\", line 1378, in run\n",
            "    self.function(*self.args, **self.kwargs)\n",
            "  File \"/usr/local/lib/python3.10/dist-packages/flask_ngrok.py\", line 70, in start_ngrok\n",
            "    ngrok_address = _run_ngrok()\n",
            "  File \"/usr/local/lib/python3.10/dist-packages/flask_ngrok.py\", line 35, in _run_ngrok\n",
            "    tunnel_url = requests.get(localhost_url).text  # Get the tunnel information\n",
            "  File \"/usr/local/lib/python3.10/dist-packages/requests/api.py\", line 73, in get\n",
            "    return request(\"get\", url, params=params, **kwargs)\n",
            "  File \"/usr/local/lib/python3.10/dist-packages/requests/api.py\", line 59, in request\n",
            "    return session.request(method=method, url=url, **kwargs)\n",
            "  File \"/usr/local/lib/python3.10/dist-packages/requests/sessions.py\", line 589, in request\n",
            "    resp = self.send(prep, **send_kwargs)\n",
            "  File \"/usr/local/lib/python3.10/dist-packages/requests/sessions.py\", line 703, in send\n",
            "    r = adapter.send(request, **kwargs)\n",
            "  File \"/usr/local/lib/python3.10/dist-packages/requests/adapters.py\", line 700, in send\n",
            "    raise ConnectionError(e, request=request)\n",
            "requests.exceptions.ConnectionError: HTTPConnectionPool(host='localhost', port=4040): Max retries exceeded with url: /api/tunnels (Caused by NewConnectionError('<urllib3.connection.HTTPConnection object at 0x7c6b8e0b1ab0>: Failed to establish a new connection: [Errno 111] Connection refused'))\n"
          ]
        }
      ]
    },
    {
      "cell_type": "code",
      "source": [
        "%%writefile index.html\n",
        "<!DOCTYPE html>\n",
        "<html>\n",
        "<head>\n",
        "    <title>Instagram Clone</title>\n",
        "    <style>\n",
        "        .post {\n",
        "            margin: 10px;\n",
        "            border: 1px solid #ddd;\n",
        "            padding: 10px;\n",
        "        }\n",
        "    </style>\n",
        "</head>\n",
        "<body>\n",
        "    <h1>Instagram Clone</h1>\n",
        "    <div id=\"login\">\n",
        "        <h2>Login</h2>\n",
        "        <input type=\"text\" id=\"username\" placeholder=\"Username\">\n",
        "        <input type=\"password\" id=\"password\" placeholder=\"Password\">\n",
        "        <button onclick=\"login()\">Login</button>\n",
        "        <p id=\"login-message\"></p>\n",
        "    </div>\n",
        "    <div id=\"post-section\" style=\"display: none;\">\n",
        "        <h2>New Post</h2>\n",
        "        <textarea id=\"post-content\" placeholder=\"What's on your mind?\"></textarea>\n",
        "        <button onclick=\"addPost()\">Post</button>\n",
        "        <h2>Feed</h2>\n",
        "        <div id=\"feed\"></div>\n",
        "    </div>\n",
        "\n",
        "    <script>\n",
        "        const apiUrl = 'http://localhost:5000'; // Change this to the ngrok URL when running in Colab\n",
        "\n",
        "        function login() {\n",
        "            const username = document.getElementById('username').value;\n",
        "            const password = document.getElementById('password').value;\n",
        "\n",
        "            fetch(`${apiUrl}/login`, {\n",
        "                method: 'POST',\n",
        "                headers: { 'Content-Type': 'application/json' },\n",
        "                body: JSON.stringify({ username, password })\n",
        "            })\n",
        "            .then(response => response.json())\n",
        "            .then(data => {\n",
        "                if (data.message === 'Login successful') {\n",
        "                    document.getElementById('login').style.display = 'none';\n",
        "                    document.getElementById('post-section').style.display = 'block';\n",
        "                    loadPosts();\n",
        "                } else {\n",
        "                    document.getElementById('login-message').innerText = data.message;\n",
        "                }\n",
        "            });\n",
        "        }\n",
        "\n",
        "        function addPost() {\n",
        "            const content = document.getElementById('post-content').value;\n",
        "\n",
        "            fetch(`${apiUrl}/add_post`, {\n",
        "                method: 'POST',\n",
        "                headers: { 'Content-Type': 'application/json' },\n",
        "                body: JSON.stringify({ username: 'testUser', content }) // Replace with dynamic username after login\n",
        "            })\n",
        "            .then(response => response.json())\n",
        "            .then(() => loadPosts());\n",
        "        }\n",
        "\n",
        "        function loadPosts() {\n",
        "            fetch(`${apiUrl}/get_posts`)\n",
        "            .then(response => response.json())\n",
        "            .then(data => {\n",
        "                const feed = document.getElementById('feed');\n",
        "                feed.innerHTML = data.posts.map(post => `<div class=\"post\"><b>${post.username}</b>: ${post.content}</div>`).join('');\n",
        "            });\n",
        "        }\n",
        "    </script>\n",
        "</body>\n",
        "</html>\n"
      ],
      "metadata": {
        "colab": {
          "base_uri": "https://localhost:8080/"
        },
        "id": "YD2ytD83e1A6",
        "outputId": "156b3268-dcab-42aa-b64e-e8f3eb190aeb"
      },
      "execution_count": 31,
      "outputs": [
        {
          "output_type": "stream",
          "name": "stdout",
          "text": [
            "Writing index.html\n"
          ]
        }
      ]
    },
    {
      "cell_type": "code",
      "source": [
        "!python -m http.server 8000\n"
      ],
      "metadata": {
        "colab": {
          "base_uri": "https://localhost:8080/"
        },
        "id": "Kk_5NX4Pe4yz",
        "outputId": "7d5c194a-1229-41a1-a8a5-d9b6e073da36"
      },
      "execution_count": 32,
      "outputs": [
        {
          "output_type": "stream",
          "name": "stdout",
          "text": [
            "Serving HTTP on 0.0.0.0 port 8000 (http://0.0.0.0:8000/) ...\n",
            "\n",
            "Keyboard interrupt received, exiting.\n"
          ]
        }
      ]
    }
  ]
}